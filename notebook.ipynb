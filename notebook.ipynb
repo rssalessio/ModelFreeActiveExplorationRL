{
 "cells": [
  {
   "cell_type": "code",
   "execution_count": 3,
   "metadata": {},
   "outputs": [],
   "source": [
    "import numpy as np\n",
    "import matplotlib.pyplot as plt\n",
    "from maze import Maze, MazeParameters, Action\n",
    "from tqdm import tqdm\n",
    "from empirical_model import EmpiricalModel\n",
    "from policy_iteration import policy_iteration\n",
    "\n",
    "DISCOUNT_FACTOR = 0.99\n",
    "MAZE_PARAMETERS = MazeParameters(\n",
    "    num_rows=8,\n",
    "    num_columns=8,\n",
    "    slippery_probability=0.3,\n",
    "    walls=[(1,1), (2,2), (0,4), (1,4),  (4,0), (4,1), (4,4), (4,5), (4,6), (5,4), (5, 5), (5, 6), (6,4), (6, 5), (6, 6)],\n",
    "    random_walls=False\n",
    ")\n",
    "NUM_EPISODES = 100\n",
    "NUM_ACTIONS = len(Action)\n",
    "ALPHA = 0.6\n",
    "ACTIONS = list(Action)\n",
    "DISCOUNT_FACTOR = 0.99\n",
    "env = Maze(MAZE_PARAMETERS)\n",
    "model = EmpiricalModel(MAZE_PARAMETERS.num_rows, MAZE_PARAMETERS.num_columns, 4)\n",
    "policy_iteration(DISCOUNT_FACTOR, model.transition_function, model.reward)"
   ]
  },
  {
   "cell_type": "code",
   "execution_count": 4,
   "metadata": {},
   "outputs": [
    {
     "ename": "ValueError",
     "evalue": "Except for dimension 1, all dimensions of index and self should be the same size",
     "output_type": "error",
     "traceback": [
      "\u001b[0;31m---------------------------------------------------------------------------\u001b[0m",
      "\u001b[0;31mValueError\u001b[0m                                Traceback (most recent call last)",
      "Cell \u001b[0;32mIn [4], line 1\u001b[0m\n\u001b[0;32m----> 1\u001b[0m \u001b[43mpolicy_iteration\u001b[49m\u001b[43m(\u001b[49m\u001b[43mDISCOUNT_FACTOR\u001b[49m\u001b[43m,\u001b[49m\u001b[43m \u001b[49m\u001b[43mmodel\u001b[49m\u001b[38;5;241;43m.\u001b[39;49m\u001b[43mtransition_function\u001b[49m\u001b[43m,\u001b[49m\u001b[43m \u001b[49m\u001b[43mmodel\u001b[49m\u001b[38;5;241;43m.\u001b[39;49m\u001b[43mreward\u001b[49m\u001b[43m)\u001b[49m\n",
      "File \u001b[0;32m~/rl-exploration-maze/policy_iteration.py:78\u001b[0m, in \u001b[0;36mpolicy_iteration\u001b[0;34m(gamma, P, R, pi0, V0, tol)\u001b[0m\n\u001b[1;32m     76\u001b[0m \u001b[39mwhile\u001b[39;00m \u001b[39mnot\u001b[39;00m policy_stable:\n\u001b[1;32m     77\u001b[0m     policy_stable \u001b[39m=\u001b[39m \u001b[39mTrue\u001b[39;00m\n\u001b[0;32m---> 78\u001b[0m     V \u001b[39m=\u001b[39m policy_evaluation(gamma, P, R, pi, V, tol)\n\u001b[1;32m     79\u001b[0m     \u001b[39mfor\u001b[39;00m s \u001b[39min\u001b[39;00m \u001b[39mrange\u001b[39m(NS):\n\u001b[1;32m     80\u001b[0m         Qs \u001b[39m=\u001b[39m R[s, :] \u001b[39m+\u001b[39m gamma \u001b[39m*\u001b[39m (P[s] \u001b[39m@\u001b[39m V)\n",
      "File \u001b[0;32m~/rl-exploration-maze/policy_iteration.py:35\u001b[0m, in \u001b[0;36mpolicy_evaluation\u001b[0;34m(gamma, P, R, pi, V0, tol)\u001b[0m\n\u001b[1;32m     32\u001b[0m V \u001b[39m=\u001b[39m V0\u001b[39m.\u001b[39mcopy()\n\u001b[1;32m     33\u001b[0m Delta \u001b[39m=\u001b[39m np\u001b[39m.\u001b[39minfty\n\u001b[0;32m---> 35\u001b[0m _R \u001b[39m=\u001b[39m gather(R, \u001b[39m1\u001b[39;49m, pi)\n\u001b[1;32m     36\u001b[0m _P \u001b[39m=\u001b[39m gather(P, \u001b[39m1\u001b[39m, pi)\n\u001b[1;32m     38\u001b[0m \u001b[39mwhile\u001b[39;00m Delta \u001b[39m>\u001b[39m tol:\n",
      "File \u001b[0;32m~/rl-exploration-maze/policy_iteration.py:105\u001b[0m, in \u001b[0;36mgather\u001b[0;34m(X, dim, index)\u001b[0m\n\u001b[1;32m    103\u001b[0m self_xsection_shape \u001b[39m=\u001b[39m X\u001b[39m.\u001b[39mshape[:dim] \u001b[39m+\u001b[39m X\u001b[39m.\u001b[39mshape[dim \u001b[39m+\u001b[39m \u001b[39m1\u001b[39m:]\n\u001b[1;32m    104\u001b[0m \u001b[39mif\u001b[39;00m idx_xsection_shape \u001b[39m!=\u001b[39m self_xsection_shape:\n\u001b[0;32m--> 105\u001b[0m     \u001b[39mraise\u001b[39;00m \u001b[39mValueError\u001b[39;00m(\u001b[39m\"\u001b[39m\u001b[39mExcept for dimension \u001b[39m\u001b[39m\"\u001b[39m \u001b[39m+\u001b[39m \u001b[39mstr\u001b[39m(dim) \u001b[39m+\u001b[39m\n\u001b[1;32m    106\u001b[0m                      \u001b[39m\"\u001b[39m\u001b[39m, all dimensions of index and self should be the same size\u001b[39m\u001b[39m\"\u001b[39m)\n\u001b[1;32m    107\u001b[0m \u001b[39mif\u001b[39;00m index\u001b[39m.\u001b[39mdtype \u001b[39m!=\u001b[39m np\u001b[39m.\u001b[39mdtype(\u001b[39m'\u001b[39m\u001b[39mint_\u001b[39m\u001b[39m'\u001b[39m):\n\u001b[1;32m    108\u001b[0m     \u001b[39mraise\u001b[39;00m \u001b[39mTypeError\u001b[39;00m(\u001b[39m\"\u001b[39m\u001b[39mThe values of index must be integers\u001b[39m\u001b[39m\"\u001b[39m)\n",
      "\u001b[0;31mValueError\u001b[0m: Except for dimension 1, all dimensions of index and self should be the same size"
     ]
    }
   ],
   "source": []
  }
 ],
 "metadata": {
  "kernelspec": {
   "display_name": "Python 3.10.6 ('maze-exploration')",
   "language": "python",
   "name": "python3"
  },
  "language_info": {
   "codemirror_mode": {
    "name": "ipython",
    "version": 3
   },
   "file_extension": ".py",
   "mimetype": "text/x-python",
   "name": "python",
   "nbconvert_exporter": "python",
   "pygments_lexer": "ipython3",
   "version": "3.10.8"
  },
  "orig_nbformat": 4,
  "vscode": {
   "interpreter": {
    "hash": "d2a35312a43b71a77a1b74a8b491256030edff1e441176bb1c932cef8d775f79"
   }
  }
 },
 "nbformat": 4,
 "nbformat_minor": 2
}
